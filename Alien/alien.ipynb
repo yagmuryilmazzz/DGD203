{
 "cells": [
  {
   "cell_type": "code",
   "execution_count": null,
   "metadata": {
    "vscode": {
     "languageId": "csharp"
    }
   },
   "outputs": [],
   "source": [
    "using System;\n",
    "\n",
    "public class Alien : Enemy\n",
    "{\n",
    "\n",
    "\tprivate const int alienHealth = 20;\n",
    "\n",
    "\tprivate const int alienMinDamage = 3;\n",
    "\tprivate const int alienMaxDamage = 10;\n",
    "\n",
    "\t/*\n",
    "\tpublic int Damage\n",
    "\t{\n",
    "\t\tget\n",
    "\t\t{\n",
    "\t\t\treturn alienMaxDamage;\n",
    "\t\t\t//Random newRandom = new Random();\n",
    "\t\t\t//return newRandom.Next(alienMinDamage, alienMaxDamage + 1);\n",
    "\t\t} protected set\n",
    "\t\t{\n",
    "\t\t\tDamage = value;\n",
    "\t\t}\n",
    "\t}\n",
    "\t*/\n",
    "\n",
    "\tpublic Alien()\n",
    "\t{\n",
    "\t\tHealth = alienHealth;\n",
    "\t\tDamage = alienMaxDamage;\n",
    "\t}\n",
    "\n",
    "\n",
    "}"
   ]
  }
 ],
 "metadata": {
  "language_info": {
   "name": "python"
  }
 },
 "nbformat": 4,
 "nbformat_minor": 2
}
