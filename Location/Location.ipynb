{
 "cells": [
  {
   "cell_type": "code",
   "execution_count": null,
   "metadata": {
    "vscode": {
     "languageId": "csharp"
    }
   },
   "outputs": [],
   "source": [
    "using System;\n",
    "using System.Numerics;\n",
    "\n",
    "public class Location\n",
    "{\n",
    "    #region VARIABLES\n",
    "\n",
    "\n",
    "    public string Name { get; private set; }\n",
    "    public Vector2 Coordinates { get; private set; }\n",
    "    public LocationType Type { get; private set; }\n",
    "\n",
    "    public bool CombatAlreadyHappened { get; private set; }\n",
    "\n",
    "    public List<Item> ItemsOnLocation { get; private set; }\n",
    "\n",
    "    #endregion\n",
    "\n",
    "    #region CONSTRUCTOR\n",
    "\n",
    "    public Location(string locationName, LocationType type, Vector2 coordinates, List<Item> itemsOnLocation)\n",
    "    {\n",
    "        Name = locationName;\n",
    "        Type = type;\n",
    "        Coordinates = coordinates;\n",
    "        ItemsOnLocation = itemsOnLocation; // The list is given by the constructor arguments\n",
    "    }\n",
    "\n",
    "    public Location(string locationName, LocationType type, Vector2 coordinates)\n",
    "    {\n",
    "        Name = locationName;\n",
    "        Type = type;\n",
    "        Coordinates = coordinates;\n",
    "        ItemsOnLocation = new List<Item>(); // The list is created, but it has ZERO elements\n",
    "    }\n",
    "\n",
    "    #endregion\n",
    "\n",
    "    #region METHODS\n",
    "\n",
    "    public void RemoveItem(Item item)\n",
    "    {\n",
    "        ItemsOnLocation.Remove(item);\n",
    "    }\n",
    "\n",
    "    public void CombatHappened()\n",
    "    {\n",
    "        if (Type != LocationType.Combat) return;\n",
    "        CombatAlreadyHappened = true;\n",
    "    }\n",
    "\n",
    "    #endregion\n",
    "}\n",
    "\n",
    "public enum LocationType\n",
    "{\n",
    "    City,\n",
    "    Combat,\n",
    "    Cave\n",
    "}"
   ]
  }
 ],
 "metadata": {
  "language_info": {
   "name": "python"
  }
 },
 "nbformat": 4,
 "nbformat_minor": 2
}
