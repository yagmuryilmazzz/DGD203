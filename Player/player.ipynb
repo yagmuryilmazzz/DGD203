{
 "cells": [
  {
   "cell_type": "code",
   "execution_count": null,
   "metadata": {
    "vscode": {
     "languageId": "csharp"
    }
   },
   "outputs": [],
   "source": [
    "using System;\n",
    "\n",
    "public class Player\n",
    "{\n",
    "\tprivate const int playerMaxHealth = 100;\n",
    "\n",
    "\tprivate const int playerDefaultMinDamage = 5;\n",
    "\tprivate const int playerDefaultMaxDamage = 15;\n",
    "\n",
    "\tpublic string Name { get; private set; }\n",
    "\tpublic int Health { get; private set; }\n",
    "\n",
    "\tpublic Inventory Inventory { get; private set; }\n",
    "\n",
    "    public Player(string name, List<Item> inventoryItems)\n",
    "\t{\n",
    "\t\tName = name;\n",
    "\t\tHealth = playerMaxHealth;\n",
    "\t\tInventory = new Inventory();\n",
    "\n",
    "\t\tfor (int i = 0; i < inventoryItems.Count; i++)\n",
    "\t\t{\n",
    "\t\t\tInventory.AddItem(inventoryItems[i]);\n",
    "\t\t}\n",
    "\t}\n",
    "\n",
    "\tpublic void TakeItem(Item item)\n",
    "\t{\n",
    "\t\tInventory.AddItem(item);\n",
    "\t}\n",
    "\n",
    "\t\n",
    "\tpublic void DropItem(Item item)\n",
    "\t{\n",
    "\t\t// This will be implemented in the future!\n",
    "\t}\n",
    "\n",
    "\tpublic void CheckInventory()\n",
    "\t{\n",
    "\t\tfor (int i = 0; i < Inventory.Items.Count; i++)\n",
    "\t\t{\n",
    "\t\t\tConsole.WriteLine($\"You have a {Inventory.Items[i]}\");\n",
    "\t\t}\n",
    "\t}\n",
    "\n",
    "\tpublic int Damage()\n",
    "\t{\n",
    "\t\tRandom damageRandom = new Random();\n",
    "\t\tint damage = damageRandom.Next(playerDefaultMinDamage, playerDefaultMaxDamage + 1);\n",
    "\t\treturn damage;\n",
    "\t}\n",
    "\n",
    "\tpublic void TakeDamage(int amount)\n",
    "\t{\n",
    "\t\tHealth -= amount;\n",
    "\t\tif (Health < 0) Health = 0;\n",
    "\n",
    "\t\tConsole.WriteLine($\"You take {amount} damage. You have {Health} health left\");\n",
    "\n",
    "\t\tif (Health <= 0)\n",
    "\t\t{\n",
    "\t\t\tConsole.WriteLine(\"YOU DIED\");\n",
    "\t\t}\n",
    "\t}\n",
    "}"
   ]
  }
 ],
 "metadata": {
  "language_info": {
   "name": "python"
  }
 },
 "nbformat": 4,
 "nbformat_minor": 2
}
