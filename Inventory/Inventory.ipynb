{
 "cells": [
  {
   "cell_type": "code",
   "execution_count": null,
   "metadata": {
    "vscode": {
     "languageId": "csharp"
    }
   },
   "outputs": [],
   "source": [
    "using System;\n",
    "\n",
    "public class Inventory\n",
    "{\n",
    "\tpublic List<Item> Items {  get; private set; }\n",
    "\n",
    "\tpublic Inventory()\n",
    "\t{\n",
    "\t\tItems = new List<Item>();\n",
    "\t}\n",
    "\n",
    "\tpublic void AddItem(Item item)\n",
    "\t{\n",
    "\t\tif (Items.Contains(item))\n",
    "\t\t{\n",
    "\t\t\treturn;\n",
    "\t\t}\n",
    "\n",
    "        Items.Add(item);\n",
    "\t}\n",
    "\n",
    "\tpublic void RemoveItem(Item item)\n",
    "\t{\n",
    "\t\tif (!Items.Contains(item))\n",
    "\t\t{\n",
    "\t\t\treturn;\n",
    "        }\n",
    "\n",
    "\t\tItems.Remove(item);\n",
    "    }\n",
    "}\n",
    "\n",
    "public enum Item\n",
    "{\n",
    "\tCharm,\n",
    "\tRune,\n",
    "\tCoin\n",
    "}"
   ]
  }
 ],
 "metadata": {
  "language_info": {
   "name": "python"
  }
 },
 "nbformat": 4,
 "nbformat_minor": 2
}
