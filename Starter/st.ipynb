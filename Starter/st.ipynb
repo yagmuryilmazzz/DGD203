{
 "cells": [
  {
   "cell_type": "code",
   "execution_count": null,
   "metadata": {
    "vscode": {
     "languageId": "csharp"
    }
   },
   "outputs": [],
   "source": [
    "using DGD203_2;\n",
    "using System;\n",
    "\n",
    "internal class Starter\n",
    "{\n",
    "    private static void Main(string[] args)\n",
    "    {\n",
    "        Game gameInstance = new Game();\n",
    "        gameInstance.StartGame(gameInstance);\n",
    "    }\n",
    "}"
   ]
  }
 ],
 "metadata": {
  "language_info": {
   "name": "python"
  }
 },
 "nbformat": 4,
 "nbformat_minor": 2
}
