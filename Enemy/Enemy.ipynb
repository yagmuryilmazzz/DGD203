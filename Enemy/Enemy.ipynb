{
 "cells": [
  {
   "cell_type": "code",
   "execution_count": null,
   "metadata": {
    "vscode": {
     "languageId": "csharp"
    }
   },
   "outputs": [],
   "source": [
    "using System;\n",
    "\n",
    "public abstract class Enemy\n",
    "{\n",
    "\tpublic int Health { get; protected set; }\n",
    "\tpublic int Damage { get; protected set; }\n",
    "\n",
    "\tpublic void TakeDamage(int amount)\n",
    "\t{\n",
    "\t\tHealth -= amount;\n",
    "\t\tif (Health < 0) Health = 0;\n",
    "\t}\n",
    "\n",
    "}"
   ]
  }
 ],
 "metadata": {
  "language_info": {
   "name": "python"
  }
 },
 "nbformat": 4,
 "nbformat_minor": 2
}
